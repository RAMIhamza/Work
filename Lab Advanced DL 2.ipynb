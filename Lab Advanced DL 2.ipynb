{
 "cells": [
  {
   "cell_type": "markdown",
   "metadata": {
    "colab_type": "text",
    "id": "EYRaB8TonV0h"
   },
   "source": [
    "## Multi-task problem: colored MNIST"
   ]
  },
  {
   "cell_type": "code",
   "execution_count": 0,
   "metadata": {
    "colab": {},
    "colab_type": "code",
    "id": "Jov7RXA2nV0l"
   },
   "outputs": [],
   "source": [
    "import torch\n",
    "import torch.nn as nn\n",
    "import torch.nn.functional as F\n",
    "import torchvision\n",
    "import torchvision.transforms as transforms\n",
    "from torch.utils.data import DataLoader, random_split, TensorDataset\n",
    "\n",
    "\n",
    "import matplotlib.pyplot as plt\n",
    "\n",
    "%matplotlib inline"
   ]
  },
  {
   "cell_type": "markdown",
   "metadata": {
    "colab_type": "text",
    "id": "g-HizR0PnV0p"
   },
   "source": [
    "### Colored [MNIST Dataset](https://pytorch.org/docs/stable/torchvision/datasets.html#mnist)\n",
    "* Handwritten digits with 10 classes\n",
    "* Size of each image: 28x28 pixels \n",
    "* 50 000 data examples in training set, 10 000 examples in validation set, 10 000 in test set\n",
    "* We colorize each image with a random color within 7 (red, green, blue, magenta, yellow, cyan, white)\n",
    "* Each image has two labels: the number it represents (10 classes) and the color of the number (7 classes)"
   ]
  },
  {
   "cell_type": "code",
   "execution_count": 0,
   "metadata": {
    "colab": {},
    "colab_type": "code",
    "id": "LzaiO_IJnV0r"
   },
   "outputs": [],
   "source": [
    "# Given a loaded MNIST dataset, create a colozied version of it\n",
    "def colorize_dataset(dataset):\n",
    "    # array of colors\n",
    "    COLORS = torch.tensor([\n",
    "        [1.0, 0.0, 0.0], # 0 RED\n",
    "        [0.0, 1.0, 0.0], # 1 GREEN\n",
    "        [0.0, 0.0, 1.0], # 2 BLUE\n",
    "        [1.0, 1.0, 0.0], # 3 YELLOW\n",
    "        [1.0, 0.0, 1.0], # 4 MAGENTA\n",
    "        [0.0, 1.0, 1.0], # 5 CYAN\n",
    "        [1.0, 1.0, 1.0], # 6 WHITE\n",
    "    ])\n",
    "    N = len(dataset)\n",
    "    images = dataset.data.view(N, 1, 28, 28)\n",
    "    labels = dataset.targets.view(N, 1)\n",
    "    color_labels = torch.randint(0, 6, (N,))\n",
    "    colorized_images = images * COLORS[color_labels, :].view(N,3,1,1)\n",
    "    full_labels = torch.cat((labels, color_labels.view(N, 1)), dim=1)\n",
    "    return TensorDataset(colorized_images, full_labels)\n",
    "    "
   ]
  },
  {
   "cell_type": "code",
   "execution_count": 0,
   "metadata": {
    "colab": {},
    "colab_type": "code",
    "id": "ArRUfJDwnV0u"
   },
   "outputs": [],
   "source": [
    "# Loading MNIST dataset from torchvision.dataset\n",
    "dataset = torchvision.datasets.MNIST(root='data/',\n",
    "                                           train=True,\n",
    "                                           transform=transforms.ToTensor(),\n",
    "                                           download=True)\n",
    "\n",
    "dataset = colorize_dataset(dataset)"
   ]
  },
  {
   "cell_type": "code",
   "execution_count": 0,
   "metadata": {
    "colab": {
     "base_uri": "https://localhost:8080/",
     "height": 34
    },
    "colab_type": "code",
    "id": "xa3hhl9jnV0x",
    "outputId": "1fd5130d-052f-451a-dd19-90834ee5dc01"
   },
   "outputs": [
    {
     "name": "stdout",
     "output_type": "stream",
     "text": [
      "The shape of the dataset is : torch.Size([60000, 3, 28, 28])\n"
     ]
    }
   ],
   "source": [
    "print(\"The shape of the dataset is :\", dataset.tensors[0].size())"
   ]
  },
  {
   "cell_type": "code",
   "execution_count": 0,
   "metadata": {
    "colab": {},
    "colab_type": "code",
    "id": "hoO9vY6UnV00"
   },
   "outputs": [],
   "source": [
    "# split the dataset into training and validation sets\n",
    "train_set, val_set = random_split(dataset, [50000, 10000])"
   ]
  },
  {
   "cell_type": "code",
   "execution_count": 0,
   "metadata": {
    "colab": {
     "base_uri": "https://localhost:8080/",
     "height": 315
    },
    "colab_type": "code",
    "id": "8MsgE3M8nV03",
    "outputId": "02f5088d-30c1-425c-d0f2-442a6d6030d5"
   },
   "outputs": [
    {
     "name": "stderr",
     "output_type": "stream",
     "text": [
      "Clipping input data to the valid range for imshow with RGB data ([0..1] for floats or [0..255] for integers).\n"
     ]
    },
    {
     "data": {
      "text/plain": [
       "Text(0.5, 1.0, 'image label: tensor([9, 3])')"
      ]
     },
     "execution_count": 6,
     "metadata": {
      "tags": []
     },
     "output_type": "execute_result"
    },
    {
     "data": {
      "image/png": "[encoded data removed]",
      "text/plain": [
       "<Figure size 432x288 with 1 Axes>"
      ]
     },
     "metadata": {
      "tags": []
     },
     "output_type": "display_data"
    }
   ],
   "source": [
    "sample_index = 80\n",
    "\n",
    "plt.imshow(dataset[sample_index][0].permute(1, 2, 0), interpolation='nearest')\n",
    "plt.title(\"image label: {}\".format(dataset[sample_index][1]))"
   ]
  },
  {
   "cell_type": "markdown",
   "metadata": {
    "colab_type": "text",
    "id": "vgz18QQhnV08"
   },
   "source": [
    "### Training the neural network"
   ]
  },
  {
   "cell_type": "code",
   "execution_count": 0,
   "metadata": {
    "colab": {},
    "colab_type": "code",
    "id": "tOm9ZjI6nV09"
   },
   "outputs": [],
   "source": [
    "class Model(nn.Module):\n",
    "    \n",
    "    def __init__(self):\n",
    "        super(Model, self).__init__()\n",
    "        # The input size is 28*28. For a standard classification task, the output size should be the same as the number of classes\n",
    "        self.l_number = nn.Linear(28*28*3, 10)\n",
    "        # However here we deal with 2 tasks: the network outputs 2 labels, so there are two \"last\" layers in parallel\n",
    "        self.l_color = nn.Linear(28*28*3, 7)\n",
    "        \n",
    "    def forward(self, inputs):\n",
    "        h = inputs.view(-1, 28*28*3)\n",
    "        # Use softmax as the activation function for the last layer(s)\n",
    "        output_number = F.softmax(self.l_number(h), dim=1)\n",
    "        output_color = F.softmax(self.l_color(h), dim=1)\n",
    "        \n",
    "        return (output_number, output_color)"
   ]
  },
  {
   "cell_type": "code",
   "execution_count": 0,
   "metadata": {
    "colab": {},
    "colab_type": "code",
    "id": "DnzJDaeunV1A"
   },
   "outputs": [],
   "source": [
    "# Create the model: \n",
    "model = Model()\n",
    "\n",
    "# Choose the hyperparameters for training: \n",
    "num_epochs = 10\n",
    "batch_size = 10\n",
    "\n",
    "# Use mean squared loss function \n",
    "criterion = nn.MSELoss()\n",
    "\n",
    "# Use SGD optimizer with a learning rate of 0.01\n",
    "# It is initialized on our model\n",
    "optimizer = torch.optim.SGD(model.parameters(), lr=0.01)"
   ]
  },
  {
   "cell_type": "code",
   "execution_count": 0,
   "metadata": {
    "colab": {},
    "colab_type": "code",
    "id": "cqcNAMGXnV1D"
   },
   "outputs": [],
   "source": [
    "# define a function for training\n",
    "def train(num_epochs, batch_size, criterion, optimizer, model, dataset):\n",
    "    train_error = []\n",
    "    train_loader = DataLoader(dataset, batch_size, shuffle=True)\n",
    "    model.train()\n",
    "    for epoch in range(num_epochs):\n",
    "        epoch_average_loss = 0.0\n",
    "        for (images, labels) in train_loader:\n",
    "            (y_number, y_color) = model(images)\n",
    "            \n",
    "            # One-hot encoding or labels so as to calculate MSE error:\n",
    "            number_onehot = F.one_hot(labels[:,0], 10).float()\n",
    "            color_onehot = F.one_hot(labels[:,1], 7).float()\n",
    "            \n",
    "            loss = criterion(y_number, number_onehot) + criterion(y_color, color_onehot)\n",
    "            optimizer.zero_grad()\n",
    "            loss.backward()\n",
    "            optimizer.step()\n",
    "            epoch_average_loss += loss.item() * batch_size / len(dataset)\n",
    "        train_error.append(epoch_average_loss)\n",
    "        print('Epoch [{}/{}], Loss: {:.4f}'\n",
    "                      .format(epoch+1, num_epochs, epoch_average_loss))\n",
    "    return train_error"
   ]
  },
  {
   "cell_type": "code",
   "execution_count": 0,
   "metadata": {
    "colab": {
     "base_uri": "https://localhost:8080/",
     "height": 187
    },
    "colab_type": "code",
    "id": "zq2BsK1RnV1G",
    "outputId": "9ece1817-bdf0-4057-f428-7a7488fdb63e"
   },
   "outputs": [
    {
     "name": "stdout",
     "output_type": "stream",
     "text": [
      "Epoch [1/10], Loss: 0.3875\n",
      "Epoch [2/10], Loss: 0.3269\n",
      "Epoch [3/10], Loss: 0.2718\n",
      "Epoch [4/10], Loss: 0.2545\n",
      "Epoch [5/10], Loss: 0.2497\n",
      "Epoch [6/10], Loss: 0.2421\n",
      "Epoch [7/10], Loss: 0.2412\n",
      "Epoch [8/10], Loss: 0.2420\n",
      "Epoch [9/10], Loss: 0.2416\n",
      "Epoch [10/10], Loss: 0.2392\n"
     ]
    }
   ],
   "source": [
    "train_error = train(num_epochs, batch_size, criterion, optimizer, model, train_set)"
   ]
  },
  {
   "cell_type": "code",
   "execution_count": 0,
   "metadata": {
    "colab": {
     "base_uri": "https://localhost:8080/",
     "height": 313
    },
    "colab_type": "code",
    "id": "OCixxYPUnV1J",
    "outputId": "651640c4-90c2-4e12-998f-00c72f757c4b"
   },
   "outputs": [
    {
     "data": {
      "text/plain": [
       "Text(0.5, 1.0, 'Visualization of convergence')"
      ]
     },
     "execution_count": 11,
     "metadata": {
      "tags": []
     },
     "output_type": "execute_result"
    },
    {
     "data": {
      "image/png": "[encoded data removed]",
      "text/plain": [
       "<Figure size 432x288 with 1 Axes>"
      ]
     },
     "metadata": {
      "tags": []
     },
     "output_type": "display_data"
    }
   ],
   "source": [
    "# plot the training error wrt. the number of epochs: \n",
    "plt.plot(range(1, num_epochs+1), train_error)\n",
    "plt.xlabel(\"num_epochs\")\n",
    "plt.ylabel(\"Train error\")\n",
    "plt.title(\"Visualization of convergence\")"
   ]
  },
  {
   "cell_type": "markdown",
   "metadata": {
    "colab_type": "text",
    "id": "yg7LpnlHnV1M"
   },
   "source": [
    "### Evaluate the model on the validation set"
   ]
  },
  {
   "cell_type": "code",
   "execution_count": 0,
   "metadata": {
    "colab": {},
    "colab_type": "code",
    "id": "hTboshQlnV1M"
   },
   "outputs": [],
   "source": [
    "# Calculate the accuracy to evaluate the model\n",
    "def accuracy(dataset, model):\n",
    "\n",
    "    with torch.no_grad():\n",
    "        number_correct = 0\n",
    "        color_correct = 0\n",
    "        both_correct = 0\n",
    "        dataloader = DataLoader(dataset)\n",
    "        for images, labels in dataloader:\n",
    "            images = images.view(-1, 28*28)\n",
    "            (y_number, y_color) = model(images)\n",
    "            _, number_predicted = torch.max(y_number.data, 1) \n",
    "            number_correct += (number_predicted == labels[:, 0]).sum()\n",
    "            _, color_predicted = torch.max(y_color.data, 1) \n",
    "            color_correct += (color_predicted == labels[:, 1]).sum()\n",
    "            both_correct += ((color_predicted == labels[:, 1]) and (number_predicted == labels[:, 0])).sum()\n",
    "\n",
    "    print('Accuracy of the model for numbers : {:.2f} %'.format(100*number_correct.item()/ len(dataset)))\n",
    "    print('Accuracy of the model for colors : {:.2f} %'.format(100*color_correct.item()/ len(dataset)))\n",
    "    print('Accuracy of the model for both : {:.2f} %'.format(100*both_correct.item()/ len(dataset)))"
   ]
  },
  {
   "cell_type": "code",
   "execution_count": 0,
   "metadata": {
    "colab": {
     "base_uri": "https://localhost:8080/",
     "height": 68
    },
    "colab_type": "code",
    "id": "f0hM7kj_nV1P",
    "outputId": "dd04d1cd-a9a5-4a87-b594-56c4e533f792"
   },
   "outputs": [
    {
     "name": "stdout",
     "output_type": "stream",
     "text": [
      "Accuracy of the model for numbers : 53.38 %\n",
      "Accuracy of the model for colors : 50.44 %\n",
      "Accuracy of the model for both : 27.00 %\n"
     ]
    }
   ],
   "source": [
    "accuracy(val_set, model)"
   ]
  },
  {
   "cell_type": "code",
   "execution_count": 0,
   "metadata": {
    "colab": {
     "base_uri": "https://localhost:8080/",
     "height": 315
    },
    "colab_type": "code",
    "id": "9zLVycNOnV1S",
    "outputId": "18df1767-68bb-4f52-bb0c-a4b442629731"
   },
   "outputs": [
    {
     "name": "stderr",
     "output_type": "stream",
     "text": [
      "Clipping input data to the valid range for imshow with RGB data ([0..1] for floats or [0..255] for integers).\n"
     ]
    },
    {
     "data": {
      "text/plain": [
       "Text(0.5, 1.0, 'Prediction: number=4, color=5')"
      ]
     },
     "execution_count": 14,
     "metadata": {
      "tags": []
     },
     "output_type": "execute_result"
    },
    {
     "data": {
      "image/png": "[encoded data removed]",
      "text/plain": [
       "<Figure size 432x288 with 1 Axes>"
      ]
     },
     "metadata": {
      "tags": []
     },
     "output_type": "display_data"
    }
   ],
   "source": [
    "val_index = 66\n",
    "\n",
    "(image, label) = val_set[val_index]\n",
    "(y_number, y_color) = model(image)\n",
    "_, number_prediction = torch.max(y_number.data, 1)\n",
    "_, color_prediction = torch.max(y_color.data, 1)\n",
    "\n",
    "plt.imshow(image.permute(1, 2, 0), interpolation='nearest')\n",
    "plt.title(\"Prediction: number=%d, color=%d\" % (number_prediction, color_prediction))"
   ]
  },
  {
   "cell_type": "markdown",
   "metadata": {
    "colab_type": "text",
    "id": "iUfWxAPbnV1W"
   },
   "source": [
    "### Exercise 1: Impact of the architecture of the model\n",
    "Define your own class `Model` to improve the predictions:\n",
    "\n",
    "* The convolutional layer can be a good choice to deal with images. Replace nn.Linear with [nn.Conv2d](https://pytorch.org/docs/stable/nn.html#conv2d).\n",
    "* Try to add more layers (1, 2, 3, more ?)\n",
    "* Change the number of neurons in hidden layers (5, 10, 20, more ?)\n",
    "* Try different activation functions such as [sigmoid](https://pytorch.org/docs/stable/nn.functional.html#torch.nn.functional.sigmoid), [tanh](https://pytorch.org/docs/stable/nn.functional.html#torch.nn.functional.tanh), [relu](https://pytorch.org/docs/stable/nn.functional.html#torch.nn.functional.relu), etc.\n",
    "* __Your network generates two different outputs, how much weight-sharing (i.e. how many common layers) between these two paths is appropriate?__"
   ]
  },
  {
   "cell_type": "markdown",
   "metadata": {
    "colab_type": "text",
    "id": "GXo6T54FpN1x"
   },
   "source": [
    "### Training the neural network"
   ]
  },
  {
   "cell_type": "code",
   "execution_count": 0,
   "metadata": {
    "colab": {},
    "colab_type": "code",
    "id": "B9nuFlqYpN10"
   },
   "outputs": [],
   "source": [
    "class my_Model_relu(nn.Module):\n",
    "    \n",
    "    def __init__(self,model):\n",
    "        super(my_Model_relu, self).__init__()\n",
    "        self.model = model\n",
    "        # The input size is 28*28. For a standard classification task, the output size should be the same as the number of classes\n",
    "        self.conv1 = nn.Conv2d(3, 8, 3)\n",
    "        self.conv2 = nn.Conv2d(8, 16, 3)\n",
    "        self.conv3 = nn.Conv2d(16, 64, 3)\n",
    "        self.fc1 = nn.Linear(2304, 128)\n",
    "        self.fc2 = nn.Linear(7744, 128)\n",
    "        self.l_number = nn.Linear(128, 10)\n",
    "        # However here we deal with 2 tasks: the network outputs 2 labels, so there are two \"last\" layers in parallel\n",
    "        self.l_color = nn.Linear(128, 7)\n",
    "    def forward(self, inputs):\n",
    "        # h = inputs.view(-1, 28*28*3)\n",
    "        h = inputs\n",
    "        # Use softmax as the activation function for the last layer(s)\n",
    "        if self.model == \"2_layers\":\n",
    "          x= self.conv1(h)\n",
    "          x = F.relu(x)\n",
    "          x = self.conv2(x)\n",
    "          x = F.max_pool2d(x, 2)\n",
    "          # x = self.dropout1(x)\n",
    "          x = torch.flatten(x, 1)\n",
    "          x = self.fc1(x)\n",
    "          x = F.relu(x)\n",
    "        elif self.model == \"3_layers\":\n",
    "          x= self.conv1(h)\n",
    "          x = F.relu(x)\n",
    "          x = self.conv2(x)\n",
    "          x = F.relu(x)\n",
    "          x = self.conv3(x)\n",
    "          x = F.max_pool2d(x, 2)\n",
    "          # x = self.dropout1(x)\n",
    "          x = torch.flatten(x, 1)\n",
    "          x = self.fc2(x)\n",
    "          x = F.relu(x)         \n",
    "        \n",
    "        \n",
    "        output_number = F.softmax(self.l_number(x), dim=1)\n",
    "        output_color = F.softmax(self.l_color(x), dim=1)\n",
    "        \n",
    "        return (output_number, output_color)"
   ]
  },
  {
   "cell_type": "code",
   "execution_count": 0,
   "metadata": {
    "colab": {},
    "colab_type": "code",
    "id": "qCoDLig4COnG"
   },
   "outputs": [],
   "source": [
    "class my_Model_tanh(nn.Module):\n",
    "    \n",
    "    def __init__(self,model):\n",
    "        super(my_Model_tanh, self).__init__()\n",
    "        self.model = model\n",
    "        # The input size is 28*28. For a standard classification task, the output size should be the same as the number of classes\n",
    "        self.conv1 = nn.Conv2d(3, 8, 3)\n",
    "        self.conv2 = nn.Conv2d(8, 16, 3)\n",
    "        self.conv3 = nn.Conv2d(16, 64, 3)\n",
    "        self.fc1 = nn.Linear(2304, 128)\n",
    "        self.fc2 = nn.Linear(7744, 128)\n",
    "        self.l_number = nn.Linear(128, 10)\n",
    "        # However here we deal with 2 tasks: the network outputs 2 labels, so there are two \"last\" layers in parallel\n",
    "        self.l_color = nn.Linear(128, 7)\n",
    "    def forward(self, inputs):\n",
    "        # h = inputs.view(-1, 28*28*3)\n",
    "        h = inputs\n",
    "        # Use softmax as the activation function for the last layer(s)\n",
    "        if self.model == \"2_layers\":\n",
    "          x= self.conv1(h)\n",
    "          x = F.tanh(x)\n",
    "          x = self.conv2(x)\n",
    "          x = F.max_pool2d(x, 2)\n",
    "          # x = self.dropout1(x)\n",
    "          x = torch.flatten(x, 1)\n",
    "          x = self.fc1(x)\n",
    "          x = F.tanh(x)\n",
    "        elif self.model == \"3_layers\":\n",
    "          x= self.conv1(h)\n",
    "          x = F.tanh(x)\n",
    "          x = self.conv2(x)\n",
    "          x = F.tanh(x)\n",
    "          x = self.conv3(x)\n",
    "          x = F.max_pool2d(x, 2)\n",
    "          # x = self.dropout1(x)\n",
    "          x = torch.flatten(x, 1)\n",
    "          x = self.fc2(x)\n",
    "          x = F.tanh(x)         \n",
    "        \n",
    "        \n",
    "        output_number = F.softmax(self.l_number(x), dim=1)\n",
    "        output_color = F.softmax(self.l_color(x), dim=1)\n",
    "        \n",
    "        return (output_number, output_color)"
   ]
  },
  {
   "cell_type": "code",
   "execution_count": 0,
   "metadata": {
    "colab": {},
    "colab_type": "code",
    "id": "pCaAlvv4DM82"
   },
   "outputs": [],
   "source": [
    "class my_Model_sigmoid(nn.Module):\n",
    "    \n",
    "    def __init__(self,model):\n",
    "        super(my_Model_sigmoid, self).__init__()\n",
    "        self.model = model\n",
    "        # The input size is 28*28. For a standard classification task, the output size should be the same as the number of classes\n",
    "        self.conv1 = nn.Conv2d(3, 8, 3)\n",
    "        self.conv2 = nn.Conv2d(8, 16, 3)\n",
    "        self.conv3 = nn.Conv2d(16, 64, 3)\n",
    "        self.fc1 = nn.Linear(2304, 128)\n",
    "        self.fc2 = nn.Linear(7744, 128)\n",
    "        self.l_number = nn.Linear(128, 10)\n",
    "        # However here we deal with 2 tasks: the network outputs 2 labels, so there are two \"last\" layers in parallel\n",
    "        self.l_color = nn.Linear(128, 7)\n",
    "    def forward(self, inputs):\n",
    "        # h = inputs.view(-1, 28*28*3)\n",
    "        h = inputs\n",
    "        # Use softmax as the activation function for the last layer(s)\n",
    "        if self.model == \"2_layers\":\n",
    "          x= self.conv1(h)\n",
    "          x = F.sigmoid(x)\n",
    "          x = self.conv2(x)\n",
    "          x = F.max_pool2d(x, 2)\n",
    "          # x = self.dropout1(x)\n",
    "          x = torch.flatten(x, 1)\n",
    "          x = self.fc1(x)\n",
    "          x = F.sigmoid(x)\n",
    "        elif self.model == \"3_layers\":\n",
    "          x= self.conv1(h)\n",
    "          x = F.sigmoid(x)\n",
    "          x = self.conv2(x)\n",
    "          x = F.sigmoid(x)\n",
    "          x = self.conv3(x)\n",
    "          x = F.max_pool2d(x, 2)\n",
    "          # x = self.dropout1(x)\n",
    "          x = torch.flatten(x, 1)\n",
    "          x = self.fc2(x)\n",
    "          x = F.sigmoid(x)         \n",
    "        \n",
    "        \n",
    "        output_number = F.softmax(self.l_number(x), dim=1)\n",
    "        output_color = F.softmax(self.l_color(x), dim=1)\n",
    "        \n",
    "        return (output_number, output_color)"
   ]
  },
  {
   "cell_type": "code",
   "execution_count": 0,
   "metadata": {
    "colab": {
     "base_uri": "https://localhost:8080/",
     "height": 1000
    },
    "colab_type": "code",
    "id": "hfvGoB9wpN17",
    "outputId": "865d3077-468d-4816-96f1-f50842702c95"
   },
   "outputs": [
    {
     "name": "stdout",
     "output_type": "stream",
     "text": [
      "Epoch [1/10], Loss: 0.0237\n",
      "Epoch [2/10], Loss: 0.0089\n",
      "Epoch [3/10], Loss: 0.0063\n",
      "Epoch [4/10], Loss: 0.0050\n",
      "Epoch [5/10], Loss: 0.0040\n",
      "Epoch [6/10], Loss: 0.0033\n",
      "Epoch [7/10], Loss: 0.0027\n",
      "Epoch [8/10], Loss: 0.0023\n",
      "Epoch [9/10], Loss: 0.0019\n",
      "Epoch [10/10], Loss: 0.0017\n",
      "Accuracy of the model for numbers : 97.47 %\n",
      "Accuracy of the model for colors : 100.00 %\n",
      "Accuracy of the model for both : 97.47 %\n",
      "None\n",
      "Epoch [1/10], Loss: 0.0176\n",
      "Epoch [2/10], Loss: 0.0061\n",
      "Epoch [3/10], Loss: 0.0039\n",
      "Epoch [4/10], Loss: 0.0028\n",
      "Epoch [5/10], Loss: 0.0022\n",
      "Epoch [6/10], Loss: 0.0018\n",
      "Epoch [7/10], Loss: 0.0014\n",
      "Epoch [8/10], Loss: 0.0011\n",
      "Epoch [9/10], Loss: 0.0009\n",
      "Epoch [10/10], Loss: 0.0008\n",
      "Accuracy of the model for numbers : 98.33 %\n",
      "Accuracy of the model for colors : 100.00 %\n",
      "Accuracy of the model for both : 98.33 %\n",
      "None\n"
     ]
    },
    {
     "name": "stderr",
     "output_type": "stream",
     "text": [
      "/usr/local/lib/python3.6/dist-packages/torch/nn/functional.py:1340: UserWarning: nn.functional.tanh is deprecated. Use torch.tanh instead.\n",
      "  warnings.warn(\"nn.functional.tanh is deprecated. Use torch.tanh instead.\")\n"
     ]
    },
    {
     "name": "stdout",
     "output_type": "stream",
     "text": [
      "Epoch [1/10], Loss: 0.1022\n",
      "Epoch [2/10], Loss: 0.0612\n",
      "Epoch [3/10], Loss: 0.0273\n",
      "Epoch [4/10], Loss: 0.0179\n",
      "Epoch [5/10], Loss: 0.0143\n",
      "Epoch [6/10], Loss: 0.0121\n",
      "Epoch [7/10], Loss: 0.0106\n",
      "Epoch [8/10], Loss: 0.0095\n",
      "Epoch [9/10], Loss: 0.0086\n",
      "Epoch [10/10], Loss: 0.0079\n",
      "Accuracy of the model for numbers : 95.26 %\n",
      "Accuracy of the model for colors : 99.98 %\n",
      "Accuracy of the model for both : 95.25 %\n",
      "None\n",
      "Epoch [1/10], Loss: 0.1013\n",
      "Epoch [2/10], Loss: 0.0466\n",
      "Epoch [3/10], Loss: 0.0224\n",
      "Epoch [4/10], Loss: 0.0163\n",
      "Epoch [5/10], Loss: 0.0136\n",
      "Epoch [6/10], Loss: 0.0118\n",
      "Epoch [7/10], Loss: 0.0105\n",
      "Epoch [8/10], Loss: 0.0095\n",
      "Epoch [9/10], Loss: 0.0086\n",
      "Epoch [10/10], Loss: 0.0079\n",
      "Accuracy of the model for numbers : 95.14 %\n",
      "Accuracy of the model for colors : 100.00 %\n",
      "Accuracy of the model for both : 95.14 %\n",
      "None\n"
     ]
    },
    {
     "name": "stderr",
     "output_type": "stream",
     "text": [
      "/usr/local/lib/python3.6/dist-packages/torch/nn/functional.py:1351: UserWarning: nn.functional.sigmoid is deprecated. Use torch.sigmoid instead.\n",
      "  warnings.warn(\"nn.functional.sigmoid is deprecated. Use torch.sigmoid instead.\")\n"
     ]
    },
    {
     "name": "stdout",
     "output_type": "stream",
     "text": [
      "Epoch [1/10], Loss: 0.2051\n",
      "Epoch [2/10], Loss: 0.1357\n",
      "Epoch [3/10], Loss: 0.0940\n",
      "Epoch [4/10], Loss: 0.0912\n",
      "Epoch [5/10], Loss: 0.0903\n",
      "Epoch [6/10], Loss: 0.0896\n",
      "Epoch [7/10], Loss: 0.0887\n",
      "Epoch [8/10], Loss: 0.0876\n",
      "Epoch [9/10], Loss: 0.0861\n",
      "Epoch [10/10], Loss: 0.0845\n",
      "Accuracy of the model for numbers : 24.37 %\n",
      "Accuracy of the model for colors : 100.00 %\n",
      "Accuracy of the model for both : 24.37 %\n",
      "None\n",
      "Epoch [1/10], Loss: 0.2095\n",
      "Epoch [2/10], Loss: 0.2087\n",
      "Epoch [3/10], Loss: 0.2080\n",
      "Epoch [4/10], Loss: 0.2046\n",
      "Epoch [5/10], Loss: 0.1500\n",
      "Epoch [6/10], Loss: 0.0951\n",
      "Epoch [7/10], Loss: 0.0913\n",
      "Epoch [8/10], Loss: 0.0904\n",
      "Epoch [9/10], Loss: 0.0897\n",
      "Epoch [10/10], Loss: 0.0890\n",
      "Accuracy of the model for numbers : 13.30 %\n",
      "Accuracy of the model for colors : 100.00 %\n",
      "Accuracy of the model for both : 13.30 %\n",
      "None\n"
     ]
    },
    {
     "data": {
      "image/png": "[encoded data removed]",
      "text/plain": [
       "<Figure size 720x432 with 1 Axes>"
      ]
     },
     "metadata": {
      "tags": []
     },
     "output_type": "display_data"
    }
   ],
   "source": [
    "models =      {\"relu_model 1\": my_Model_relu,\n",
    "               \"tanh_model 2\": my_Model_tanh,\n",
    "               \"sigmoid_model 3\": my_Model_sigmoid}\n",
    "num_epochs = 10\n",
    "batch_size = 10\n",
    "criterion = nn.MSELoss()\n",
    "plt.figure(figsize=(10, 6))\n",
    "titles = []\n",
    "for key in models.keys():\n",
    "  for model in [\"2_layers\",'3_layers']:\n",
    "    titles.append(key+\" \"+model)\n",
    "    model = models[key](model)\n",
    "    optimizer = torch.optim.SGD(model.parameters(), lr=0.01)\n",
    "    train_error = train(num_epochs, batch_size, criterion, optimizer, model, train_set)\n",
    "    model.eval() # set the model to test mode\n",
    "    plt.plot(range(1, num_epochs+1), train_error)\n",
    "    with torch.no_grad():\n",
    "      print(accuracy(val_set, model,66))\n",
    "plt.xlabel(\"num_epochs\")\n",
    "plt.ylabel(\"Train error\")\n",
    "plt.title(\"Visualization of convergence\")\n",
    "plt.legend(titles)\n",
    "plt.show()"
   ]
  },
  {
   "cell_type": "markdown",
   "metadata": {
    "colab_type": "text",
    "id": "kXVhU-awpTyZ"
   },
   "source": [
    "### Evaluate the model on the validation set"
   ]
  },
  {
   "cell_type": "code",
   "execution_count": 0,
   "metadata": {
    "colab": {},
    "colab_type": "code",
    "id": "grk7I0BCpTya"
   },
   "outputs": [],
   "source": [
    "# Calculate the accuracy to evaluate the model\n",
    "def accuracy(dataset, model,k):\n",
    "\n",
    "    with torch.no_grad():\n",
    "        number_correct = 0\n",
    "        color_correct = 0\n",
    "        both_correct = 0\n",
    "        dataloader = DataLoader(dataset)\n",
    "  #      i=0\n",
    "        for images, labels in dataloader:\n",
    "            # print(images.shape)\n",
    "            # images = images.view(-1, 28*28)\n",
    "            (y_number, y_color) = model(images)\n",
    "            _, number_predicted = torch.max(y_number.data, 1) \n",
    "            number_correct += (number_predicted == labels[:, 0]).sum()\n",
    "            _, color_predicted = torch.max(y_color.data, 1) \n",
    "            color_correct += (color_predicted == labels[:, 1]).sum()\n",
    "            both_correct += ((color_predicted == labels[:, 1]) and (number_predicted == labels[:, 0])).sum()\n",
    "#            if i == k:\n",
    "#             plt.imshow(images[0].permute(1, 2, 0), interpolation='nearest')\n",
    "#              plt.title(\"Prediction: number=%d, color=%d\" % (number_predicted, color_predicted))\n",
    " #           i+=1\n",
    "\n",
    "    print('Accuracy of the model for numbers : {:.2f} %'.format(100*number_correct.item()/ len(dataset)))\n",
    "    print('Accuracy of the model for colors : {:.2f} %'.format(100*color_correct.item()/ len(dataset)))\n",
    "    print('Accuracy of the model for both : {:.2f} %'.format(100*both_correct.item()/ len(dataset)))"
   ]
  },
  {
   "cell_type": "code",
   "execution_count": 0,
   "metadata": {
    "colab": {
     "base_uri": "https://localhost:8080/",
     "height": 349
    },
    "colab_type": "code",
    "id": "-mZoB08-pTyd",
    "outputId": "e75b37e7-61ef-41a6-a8ec-9a9b8a3022c6"
   },
   "outputs": [
    {
     "name": "stderr",
     "output_type": "stream",
     "text": [
      "Clipping input data to the valid range for imshow with RGB data ([0..1] for floats or [0..255] for integers).\n"
     ]
    },
    {
     "name": "stdout",
     "output_type": "stream",
     "text": [
      "Accuracy of the model for numbers : 97.63 %\n",
      "Accuracy of the model for colors : 100.00 %\n",
      "Accuracy of the model for both : 97.63 %\n"
     ]
    },
    {
     "data": {
      "image/png": "[encoded data removed]",
      "text/plain": [
       "<Figure size 432x288 with 1 Axes>"
      ]
     },
     "metadata": {
      "tags": []
     },
     "output_type": "display_data"
    }
   ],
   "source": [
    "accuracy(val_set, model,66)"
   ]
  },
  {
   "cell_type": "markdown",
   "metadata": {
    "colab_type": "text",
    "id": "wFV-5XLznV1X"
   },
   "source": [
    "### Exercise 2: Impact of the optimizer\n",
    "Retrain the model by using different parameters of the optimizer; you can change its parameters in the cell initializing it, after the definition of your model.\n",
    "\n",
    "* Use different batch sizes, from 10 to 1 000 for instance\n",
    "* Try different values of the learning rate (between 0.001 and 10), and see how these impact the training process. Do all network architectures react the same way to different learning rates?\n",
    "* Change the duration of the training by increasing the number of epochs\n",
    "* Try other optimizers, such as [Adam](https://pytorch.org/docs/stable/optim.html?highlight=adam#torch.optim.Adam) or [RMSprop](https://pytorch.org/docs/stable/optim.html?highlight=rmsprop#torch.optim.RMSprop)"
   ]
  },
  {
   "cell_type": "markdown",
   "metadata": {
    "colab_type": "text",
    "id": "kL3WM7eMf822"
   },
   "source": [
    "### Training the neural network"
   ]
  },
  {
   "cell_type": "code",
   "execution_count": 0,
   "metadata": {
    "colab": {
     "base_uri": "https://localhost:8080/",
     "height": 1000
    },
    "colab_type": "code",
    "id": "R8wer_gff824",
    "outputId": "bc48dccc-357a-48fe-aafc-98daa22a5e48"
   },
   "outputs": [
    {
     "name": "stdout",
     "output_type": "stream",
     "text": [
      "Epoch [1/10], Loss: 0.0178\n",
      "Epoch [2/10], Loss: 0.0066\n",
      "Epoch [3/10], Loss: 0.0042\n",
      "Epoch [4/10], Loss: 0.0031\n",
      "Epoch [5/10], Loss: 0.0024\n",
      "Epoch [6/10], Loss: 0.0018\n",
      "Epoch [7/10], Loss: 0.0015\n",
      "Epoch [8/10], Loss: 0.0013\n",
      "Epoch [9/10], Loss: 0.0011\n",
      "Epoch [10/10], Loss: 0.0010\n",
      "Accuracy of the model for numbers : 97.99 %\n",
      "Accuracy of the model for colors : 100.00 %\n",
      "Accuracy of the model for both : 97.99 %\n",
      "None\n",
      "Epoch [1/10], Loss: 0.0331\n",
      "Epoch [2/10], Loss: 0.0128\n",
      "Epoch [3/10], Loss: 0.0101\n",
      "Epoch [4/10], Loss: 0.0085\n",
      "Epoch [5/10], Loss: 0.0074\n",
      "Epoch [6/10], Loss: 0.0067\n",
      "Epoch [7/10], Loss: 0.0059\n",
      "Epoch [8/10], Loss: 0.0054\n",
      "Epoch [9/10], Loss: 0.0049\n",
      "Epoch [10/10], Loss: 0.0045\n",
      "Accuracy of the model for numbers : 96.15 %\n",
      "Accuracy of the model for colors : 99.99 %\n",
      "Accuracy of the model for both : 96.15 %\n",
      "None\n",
      "Epoch [1/10], Loss: 0.0493\n",
      "Epoch [2/10], Loss: 0.0165\n",
      "Epoch [3/10], Loss: 0.0132\n",
      "Epoch [4/10], Loss: 0.0115\n",
      "Epoch [5/10], Loss: 0.0103\n",
      "Epoch [6/10], Loss: 0.0093\n",
      "Epoch [7/10], Loss: 0.0086\n",
      "Epoch [8/10], Loss: 0.0081\n",
      "Epoch [9/10], Loss: 0.0075\n",
      "Epoch [10/10], Loss: 0.0071\n",
      "Accuracy of the model for numbers : 94.69 %\n",
      "Accuracy of the model for colors : 99.99 %\n",
      "Accuracy of the model for both : 94.68 %\n",
      "None\n",
      "Epoch [1/10], Loss: 0.1142\n",
      "Epoch [2/10], Loss: 0.0387\n",
      "Epoch [3/10], Loss: 0.0248\n",
      "Epoch [4/10], Loss: 0.0201\n",
      "Epoch [5/10], Loss: 0.0174\n",
      "Epoch [6/10], Loss: 0.0158\n",
      "Epoch [7/10], Loss: 0.0147\n",
      "Epoch [8/10], Loss: 0.0137\n",
      "Epoch [9/10], Loss: 0.0129\n",
      "Epoch [10/10], Loss: 0.0124\n",
      "Accuracy of the model for numbers : 92.24 %\n",
      "Accuracy of the model for colors : 99.98 %\n",
      "Accuracy of the model for both : 92.23 %\n",
      "None\n"
     ]
    },
    {
     "data": {
      "image/png": "[encoded data removed]",
      "text/plain": [
       "<Figure size 720x432 with 1 Axes>"
      ]
     },
     "metadata": {
      "tags": []
     },
     "output_type": "display_data"
    }
   ],
   "source": [
    "models =      {\"relu_model 1\": my_Model_relu}\n",
    "num_epochs = 10\n",
    "batch_size = 10\n",
    "criterion = nn.MSELoss()\n",
    "plt.figure(figsize=(10, 6))\n",
    "titles = []\n",
    "for key in models.keys():\n",
    "  for model2 in ['3_layers']:\n",
    "    for batch in [10,100,250,1000]:\n",
    "      batch_size = batch\n",
    "      titles.append(key+\" \"+\"3_layers\" + \"_batch_size_\"+str(batch_size))\n",
    "      model = models[key](model2)\n",
    "      optimizer = torch.optim.SGD(model.parameters(), lr=0.01)\n",
    "      train_error = train(num_epochs, batch_size, criterion, optimizer, model, train_set)\n",
    "      model.eval() # set the model to test mode\n",
    "      plt.plot(range(1, num_epochs+1), train_error)\n",
    "      with torch.no_grad():\n",
    "        print(accuracy(val_set, model,66))\n",
    "plt.xlabel(\"num_epochs\")\n",
    "plt.ylabel(\"Train error\")\n",
    "plt.title(\"Visualization of convergence\")\n",
    "plt.legend(titles)\n",
    "plt.show()"
   ]
  }
 ],
 "metadata": {
  "colab": {
   "collapsed_sections": [
    "kXVhU-awpTyZ"
   ],
   "name": "Exercice_03.ipynb",
   "provenance": []
  },
  "kernelspec": {
   "display_name": "Python 3",
   "language": "python",
   "name": "python3"
  },
  "language_info": {
   "codemirror_mode": {
    "name": "ipython",
    "version": 3
   },
   "file_extension": ".py",
   "mimetype": "text/x-python",
   "name": "python",
   "nbconvert_exporter": "python",
   "pygments_lexer": "ipython3",
   "version": "3.6.8"
  }
 },
 "nbformat": 4,
 "nbformat_minor": 1
}
